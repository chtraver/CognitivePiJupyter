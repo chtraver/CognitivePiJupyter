{
 "cells": [
  {
   "cell_type": "code",
   "execution_count": 1,
   "metadata": {},
   "outputs": [
    {
     "name": "stdout",
     "output_type": "stream",
     "text": [
      "camera ready\n"
     ]
    }
   ],
   "source": [
    "import os\n",
    "import glob\n",
    "\n",
    "\n",
    "from picamera import PiCamera\n",
    "from time import sleep\n",
    "from time import time\n",
    "\n",
    "camera = PiCamera()\n",
    "\n",
    "camera.resolution =(640,480)\n",
    "\n",
    "print (\"camera ready\")\n"
   ]
  },
  {
   "cell_type": "code",
   "execution_count": 2,
   "metadata": {},
   "outputs": [
    {
     "name": "stdout",
     "output_type": "stream",
     "text": [
      "starting camera\n",
      "ready\n",
      "capture /home/pi/camera/image_1559139790.jpg\n"
     ]
    }
   ],
   "source": [
    "print (\"starting camera\")\n",
    "camera.start_preview()\n",
    "\n",
    "sleep(5)\n",
    "\n",
    "print (\"ready\")\n",
    "epoch_time = int(time())\n",
    "fname=\"/home/pi/camera/image_%d.jpg\" % epoch_time\n",
    "print (\"capture \" + fname)\n",
    "camera.capture(fname)\n",
    "camera.stop_preview()"
   ]
  },
  {
   "cell_type": "code",
   "execution_count": null,
   "metadata": {},
   "outputs": [],
   "source": []
  }
 ],
 "metadata": {
  "kernelspec": {
   "display_name": "Python 3",
   "language": "python",
   "name": "python3"
  },
  "language_info": {
   "codemirror_mode": {
    "name": "ipython",
    "version": 3
   },
   "file_extension": ".py",
   "mimetype": "text/x-python",
   "name": "python",
   "nbconvert_exporter": "python",
   "pygments_lexer": "ipython3",
   "version": "3.5.3"
  }
 },
 "nbformat": 4,
 "nbformat_minor": 2
}
