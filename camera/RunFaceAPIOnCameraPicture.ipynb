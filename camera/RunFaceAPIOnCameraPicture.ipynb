{
 "cells": [
  {
   "cell_type": "code",
   "execution_count": null,
   "metadata": {},
   "outputs": [],
   "source": [
    "# see https://docs.microsoft.com/en-us/azure/cognitive-services/face/tutorials/faceapiinpythontutorial for prerequisites\n",
    "import cognitive_face as CF\n",
    "from picamera import PiCamera\n",
    "import os\n",
    "import glob\n",
    "from time import sleep\n",
    "\n",
    "# Replace with a valid subscription key (keeping the quotes in place).\n",
    "KEY = '<subscription key>'\n",
    "CF.Key.set(KEY)\n",
    "\n",
    "# Replace with your regional Base URL\n",
    "BASE_URL = 'https://westcentralus.api.cognitive.microsoft.com/face/v1.0'\n",
    "CF.BaseUrl.set(BASE_URL)\n"
   ]
  },
  {
   "cell_type": "code",
   "execution_count": null,
   "metadata": {},
   "outputs": [],
   "source": [
    "camera = PiCamera()\n",
    "\n",
    "camera.resolution =(640,480)\n",
    "print (\"starting camera\")\n",
    "camera.start_preview()\n",
    "sleep(5)"
   ]
  },
  {
   "cell_type": "code",
   "execution_count": null,
   "metadata": {},
   "outputs": [],
   "source": [
    "\n",
    "print (\"capture\")\n",
    "camera.capture('/home/pi/camera/image.jpg')"
   ]
  },
  {
   "cell_type": "code",
   "execution_count": null,
   "metadata": {},
   "outputs": [],
   "source": [
    "attributes = (\n",
    "\n",
    "                'age,gender,headPose,smile,facialHair,glasses,emotion,hair,'\n",
    "\n",
    "                'makeup,occlusion,accessories,blur,exposure,noise')\n",
    "\n",
    "#faces = CF.face.detect(img_url,False,False,attributes)\n",
    "faces = CF.face.detect('/home/pi/camera/image.jpg',False,False,attributes)\n",
    "\n",
    "print(faces)"
   ]
  },
  {
   "cell_type": "code",
   "execution_count": null,
   "metadata": {},
   "outputs": [],
   "source": [
    "camera.stop_preview()"
   ]
  }
 ],
 "metadata": {
  "kernelspec": {
   "display_name": "Python 3",
   "language": "python",
   "name": "python3"
  },
  "language_info": {
   "codemirror_mode": {
    "name": "ipython",
    "version": 3
   },
   "file_extension": ".py",
   "mimetype": "text/x-python",
   "name": "python",
   "nbconvert_exporter": "python",
   "pygments_lexer": "ipython3",
   "version": "3.5.3"
  }
 },
 "nbformat": 4,
 "nbformat_minor": 2
}
