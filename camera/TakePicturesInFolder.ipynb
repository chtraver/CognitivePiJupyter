{
 "cells": [
  {
   "cell_type": "markdown",
   "metadata": {},
   "source": [
    "# Take Pictures in a folder\n",
    "This notebook allows you to take multiple pictures in a folder\n",
    "\n",
    "## Prerequistes and open camera"
   ]
  },
  {
   "cell_type": "code",
   "execution_count": null,
   "metadata": {},
   "outputs": [],
   "source": [
    "import os\n",
    "import glob\n",
    "from pathlib import Path\n",
    "\n",
    "\n",
    "from picamera import PiCamera\n",
    "from time import sleep\n",
    "from time import time\n",
    "\n",
    "camera = PiCamera()\n",
    "\n",
    "camera.resolution =(640,480)\n",
    "print (\"starting camera\")\n",
    "camera.start_preview()\n",
    "\n",
    "sleep(5)\n",
    "\n",
    "print (\"camera ready\")"
   ]
  },
  {
   "cell_type": "markdown",
   "metadata": {},
   "source": [
    "## create folder if it isn't already there"
   ]
  },
  {
   "cell_type": "code",
   "execution_count": 2,
   "metadata": {},
   "outputs": [],
   "source": [
    "folder=\"folder1\"\n",
    "\n",
    "Path(\"/home/pi/camera/\"+folder).mkdir(mode=0o755, parents=False, exist_ok=True)"
   ]
  },
  {
   "cell_type": "markdown",
   "metadata": {},
   "source": [
    "## take a single picture\n",
    "Run this cell multiple times to take multiple pictures"
   ]
  },
  {
   "cell_type": "code",
   "execution_count": null,
   "metadata": {},
   "outputs": [],
   "source": [
    "\n",
    "epoch_time = int(time())\n",
    "fname=\"/home/pi/camera/\"+folder + \"/image_%d.jpg\" % epoch_time\n",
    "print (\"capture \" + fname)\n",
    "camera.capture(fname)\n"
   ]
  },
  {
   "cell_type": "markdown",
   "metadata": {},
   "source": [
    "## close the camera again. Only run this cell after you have taken all pictures"
   ]
  },
  {
   "cell_type": "code",
   "execution_count": 14,
   "metadata": {},
   "outputs": [],
   "source": [
    "camera.stop_preview()"
   ]
  }
 ],
 "metadata": {
  "kernelspec": {
   "display_name": "Python 3",
   "language": "python",
   "name": "python3"
  },
  "language_info": {
   "codemirror_mode": {
    "name": "ipython",
    "version": 3
   },
   "file_extension": ".py",
   "mimetype": "text/x-python",
   "name": "python",
   "nbconvert_exporter": "python",
   "pygments_lexer": "ipython3",
   "version": "3.5.3"
  }
 },
 "nbformat": 4,
 "nbformat_minor": 2
}
